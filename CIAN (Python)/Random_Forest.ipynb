{
 "cells": [
  {
   "cell_type": "code",
   "execution_count": 55,
   "id": "unexpected-sterling",
   "metadata": {},
   "outputs": [],
   "source": [
    "import pandas as pd\n",
    "import numpy as np\n",
    "from sklearn.ensemble import RandomForestRegressor\n",
    "from sklearn.model_selection import KFold\n",
    "from sklearn.model_selection import cross_val_score\n",
    "from sklearn.model_selection import GridSearchCV\n",
    "from sklearn.metrics import r2_score\n",
    "from sklearn.metrics import mean_absolute_error\n",
    "from sklearn.metrics import mean_absolute_percentage_error\n",
    "from sklearn.metrics import mean_squared_error\n",
    "import seaborn\n",
    "import shap"
   ]
  },
  {
   "cell_type": "code",
   "execution_count": 2,
   "id": "typical-lawyer",
   "metadata": {},
   "outputs": [],
   "source": [
    "# Импорт набора даных (набор включает в себя очищенный от мусора и выбросов в данных, а также поля, которые остались после процедуры отбора признаков)\n",
    "data_second_model = pd.read_csv(r'C:\\Data_P\\GitHub\\data_second_january_2021_model.csv')"
   ]
  },
  {
   "cell_type": "code",
   "execution_count": 3,
   "id": "decent-designer",
   "metadata": {},
   "outputs": [
    {
     "data": {
      "text/html": [
       "<div>\n",
       "<style scoped>\n",
       "    .dataframe tbody tr th:only-of-type {\n",
       "        vertical-align: middle;\n",
       "    }\n",
       "\n",
       "    .dataframe tbody tr th {\n",
       "        vertical-align: top;\n",
       "    }\n",
       "\n",
       "    .dataframe thead th {\n",
       "        text-align: right;\n",
       "    }\n",
       "</style>\n",
       "<table border=\"1\" class=\"dataframe\">\n",
       "  <thead>\n",
       "    <tr style=\"text-align: right;\">\n",
       "      <th></th>\n",
       "      <th>price</th>\n",
       "      <th>lat</th>\n",
       "      <th>lng</th>\n",
       "      <th>type_apartment</th>\n",
       "      <th>renovation</th>\n",
       "      <th>square_total</th>\n",
       "      <th>built_year</th>\n",
       "      <th>type_house</th>\n",
       "      <th>floor_type</th>\n",
       "      <th>playground</th>\n",
       "      <th>sportsground</th>\n",
       "      <th>electrical_type</th>\n",
       "      <th>hot_water_type</th>\n",
       "      <th>gas_type</th>\n",
       "      <th>ventilation_type</th>\n",
       "      <th>drainage_type</th>\n",
       "      <th>floor_house</th>\n",
       "      <th>floor_flat</th>\n",
       "    </tr>\n",
       "  </thead>\n",
       "  <tbody>\n",
       "    <tr>\n",
       "      <th>0</th>\n",
       "      <td>12999000</td>\n",
       "      <td>55.568924</td>\n",
       "      <td>37.574642</td>\n",
       "      <td>Вторичка</td>\n",
       "      <td>Косметический</td>\n",
       "      <td>72.0</td>\n",
       "      <td>1991.0</td>\n",
       "      <td>Панельный</td>\n",
       "      <td>Железобетонные</td>\n",
       "      <td>Есть</td>\n",
       "      <td>Отсутствует</td>\n",
       "      <td>Центральное</td>\n",
       "      <td>Закрытая с приготовлением горячей воды на ЦТП</td>\n",
       "      <td>Отсутствует</td>\n",
       "      <td>Вытяжная вентиляция</td>\n",
       "      <td>Внутренние водостоки</td>\n",
       "      <td>17.0</td>\n",
       "      <td>12.0</td>\n",
       "    </tr>\n",
       "    <tr>\n",
       "      <th>1</th>\n",
       "      <td>15000000</td>\n",
       "      <td>55.653390</td>\n",
       "      <td>37.426393</td>\n",
       "      <td>Вторичка</td>\n",
       "      <td>Евроремонт</td>\n",
       "      <td>67.0</td>\n",
       "      <td>2016.0</td>\n",
       "      <td>Монолитный</td>\n",
       "      <td>Железобетонные</td>\n",
       "      <td>Есть</td>\n",
       "      <td>Есть</td>\n",
       "      <td>Центральное</td>\n",
       "      <td>Закрытая с приготовлением горячей воды на ИТП</td>\n",
       "      <td>Отсутствует</td>\n",
       "      <td>Приточно-вытяжная вентиляция</td>\n",
       "      <td>Внутренние водостоки</td>\n",
       "      <td>12.0</td>\n",
       "      <td>8.0</td>\n",
       "    </tr>\n",
       "    <tr>\n",
       "      <th>2</th>\n",
       "      <td>14800000</td>\n",
       "      <td>55.590267</td>\n",
       "      <td>37.595869</td>\n",
       "      <td>Вторичка</td>\n",
       "      <td>Евроремонт</td>\n",
       "      <td>73.0</td>\n",
       "      <td>1993.0</td>\n",
       "      <td>Панельный</td>\n",
       "      <td>Железобетонные</td>\n",
       "      <td>Есть</td>\n",
       "      <td>Отсутствует</td>\n",
       "      <td>Центральное</td>\n",
       "      <td>Закрытая с приготовлением горячей воды на ЦТП</td>\n",
       "      <td>Отсутствует</td>\n",
       "      <td>Приточно-вытяжная вентиляция</td>\n",
       "      <td>Внутренние водостоки</td>\n",
       "      <td>17.0</td>\n",
       "      <td>4.0</td>\n",
       "    </tr>\n",
       "    <tr>\n",
       "      <th>3</th>\n",
       "      <td>60000000</td>\n",
       "      <td>55.733802</td>\n",
       "      <td>37.438906</td>\n",
       "      <td>Вторичка</td>\n",
       "      <td>Евроремонт</td>\n",
       "      <td>237.0</td>\n",
       "      <td>1998.0</td>\n",
       "      <td>Монолитный</td>\n",
       "      <td>Железобетонные</td>\n",
       "      <td>Есть</td>\n",
       "      <td>Есть</td>\n",
       "      <td>Центральное</td>\n",
       "      <td>Закрытая с приготовлением горячей воды на ЦТП</td>\n",
       "      <td>Отсутствует</td>\n",
       "      <td>Приточно-вытяжная вентиляция</td>\n",
       "      <td>Внутренние водостоки</td>\n",
       "      <td>7.0</td>\n",
       "      <td>6.0</td>\n",
       "    </tr>\n",
       "    <tr>\n",
       "      <th>4</th>\n",
       "      <td>23800000</td>\n",
       "      <td>55.784303</td>\n",
       "      <td>37.562775</td>\n",
       "      <td>Вторичка</td>\n",
       "      <td>Без ремонта</td>\n",
       "      <td>73.7</td>\n",
       "      <td>2018.0</td>\n",
       "      <td>Монолитный</td>\n",
       "      <td>Железобетонные</td>\n",
       "      <td>Есть</td>\n",
       "      <td>Есть</td>\n",
       "      <td>Центральное</td>\n",
       "      <td>Открытая с отбором сетевой воды на горячее вод...</td>\n",
       "      <td>Отсутствует</td>\n",
       "      <td>Приточно-вытяжная вентиляция</td>\n",
       "      <td>Смешанные</td>\n",
       "      <td>19.0</td>\n",
       "      <td>14.0</td>\n",
       "    </tr>\n",
       "    <tr>\n",
       "      <th>...</th>\n",
       "      <td>...</td>\n",
       "      <td>...</td>\n",
       "      <td>...</td>\n",
       "      <td>...</td>\n",
       "      <td>...</td>\n",
       "      <td>...</td>\n",
       "      <td>...</td>\n",
       "      <td>...</td>\n",
       "      <td>...</td>\n",
       "      <td>...</td>\n",
       "      <td>...</td>\n",
       "      <td>...</td>\n",
       "      <td>...</td>\n",
       "      <td>...</td>\n",
       "      <td>...</td>\n",
       "      <td>...</td>\n",
       "      <td>...</td>\n",
       "      <td>...</td>\n",
       "    </tr>\n",
       "    <tr>\n",
       "      <th>5075</th>\n",
       "      <td>14200000</td>\n",
       "      <td>55.863469</td>\n",
       "      <td>37.559523</td>\n",
       "      <td>Вторичка</td>\n",
       "      <td>Евроремонт</td>\n",
       "      <td>58.8</td>\n",
       "      <td>2016.0</td>\n",
       "      <td>Кирпичный</td>\n",
       "      <td>Железобетонные</td>\n",
       "      <td>Отсутствует</td>\n",
       "      <td>Отсутствует</td>\n",
       "      <td>Центральное</td>\n",
       "      <td>Закрытая с приготовлением горячей воды на ЦТП</td>\n",
       "      <td>Отсутствует</td>\n",
       "      <td>Приточно-вытяжная вентиляция</td>\n",
       "      <td>Внутренние водостоки</td>\n",
       "      <td>18.0</td>\n",
       "      <td>11.0</td>\n",
       "    </tr>\n",
       "    <tr>\n",
       "      <th>5076</th>\n",
       "      <td>7600000</td>\n",
       "      <td>55.721610</td>\n",
       "      <td>37.898799</td>\n",
       "      <td>Вторичка</td>\n",
       "      <td>Косметический</td>\n",
       "      <td>38.0</td>\n",
       "      <td>2006.0</td>\n",
       "      <td>Монолитный</td>\n",
       "      <td>Железобетонные</td>\n",
       "      <td>Есть</td>\n",
       "      <td>Есть</td>\n",
       "      <td>Центральное</td>\n",
       "      <td>Открытая с отбором сетевой воды на горячее вод...</td>\n",
       "      <td>Отсутствует</td>\n",
       "      <td>Приточно-вытяжная вентиляция</td>\n",
       "      <td>Внутренние водостоки</td>\n",
       "      <td>11.0</td>\n",
       "      <td>7.0</td>\n",
       "    </tr>\n",
       "    <tr>\n",
       "      <th>5077</th>\n",
       "      <td>13900000</td>\n",
       "      <td>55.677935</td>\n",
       "      <td>37.531622</td>\n",
       "      <td>Вторичка</td>\n",
       "      <td>Косметический</td>\n",
       "      <td>49.0</td>\n",
       "      <td>1959.0</td>\n",
       "      <td>Кирпичный</td>\n",
       "      <td>Железобетонные</td>\n",
       "      <td>Есть</td>\n",
       "      <td>Есть</td>\n",
       "      <td>Центральное</td>\n",
       "      <td>Закрытая с приготовлением горячей воды на ЦТП</td>\n",
       "      <td>Центральное</td>\n",
       "      <td>Вытяжная вентиляция</td>\n",
       "      <td>Наружные водостоки</td>\n",
       "      <td>8.0</td>\n",
       "      <td>8.0</td>\n",
       "    </tr>\n",
       "    <tr>\n",
       "      <th>5078</th>\n",
       "      <td>169914109</td>\n",
       "      <td>55.723237</td>\n",
       "      <td>37.527903</td>\n",
       "      <td>Вторичка</td>\n",
       "      <td>Дизайнерский</td>\n",
       "      <td>160.0</td>\n",
       "      <td>2011.0</td>\n",
       "      <td>Монолитный</td>\n",
       "      <td>Железобетонные</td>\n",
       "      <td>Есть</td>\n",
       "      <td>Есть</td>\n",
       "      <td>Центральное</td>\n",
       "      <td>Закрытая с приготовлением горячей воды на ЦТП</td>\n",
       "      <td>Отсутствует</td>\n",
       "      <td>Приточно-вытяжная вентиляция</td>\n",
       "      <td>Внутренние водостоки</td>\n",
       "      <td>53.0</td>\n",
       "      <td>47.0</td>\n",
       "    </tr>\n",
       "    <tr>\n",
       "      <th>5079</th>\n",
       "      <td>14990000</td>\n",
       "      <td>55.653482</td>\n",
       "      <td>37.424228</td>\n",
       "      <td>Вторичка</td>\n",
       "      <td>Евроремонт</td>\n",
       "      <td>71.8</td>\n",
       "      <td>2016.0</td>\n",
       "      <td>Монолитный</td>\n",
       "      <td>Железобетонные</td>\n",
       "      <td>Есть</td>\n",
       "      <td>Есть</td>\n",
       "      <td>Центральное</td>\n",
       "      <td>Закрытая с приготовлением горячей воды на ИТП</td>\n",
       "      <td>Отсутствует</td>\n",
       "      <td>Приточно-вытяжная вентиляция</td>\n",
       "      <td>Внутренние водостоки</td>\n",
       "      <td>12.0</td>\n",
       "      <td>8.0</td>\n",
       "    </tr>\n",
       "  </tbody>\n",
       "</table>\n",
       "<p>5080 rows × 18 columns</p>\n",
       "</div>"
      ],
      "text/plain": [
       "          price        lat        lng type_apartment     renovation  \\\n",
       "0      12999000  55.568924  37.574642       Вторичка  Косметический   \n",
       "1      15000000  55.653390  37.426393       Вторичка     Евроремонт   \n",
       "2      14800000  55.590267  37.595869       Вторичка     Евроремонт   \n",
       "3      60000000  55.733802  37.438906       Вторичка     Евроремонт   \n",
       "4      23800000  55.784303  37.562775       Вторичка    Без ремонта   \n",
       "...         ...        ...        ...            ...            ...   \n",
       "5075   14200000  55.863469  37.559523       Вторичка     Евроремонт   \n",
       "5076    7600000  55.721610  37.898799       Вторичка  Косметический   \n",
       "5077   13900000  55.677935  37.531622       Вторичка  Косметический   \n",
       "5078  169914109  55.723237  37.527903       Вторичка   Дизайнерский   \n",
       "5079   14990000  55.653482  37.424228       Вторичка     Евроремонт   \n",
       "\n",
       "      square_total  built_year  type_house      floor_type   playground  \\\n",
       "0             72.0      1991.0   Панельный  Железобетонные         Есть   \n",
       "1             67.0      2016.0  Монолитный  Железобетонные         Есть   \n",
       "2             73.0      1993.0   Панельный  Железобетонные         Есть   \n",
       "3            237.0      1998.0  Монолитный  Железобетонные         Есть   \n",
       "4             73.7      2018.0  Монолитный  Железобетонные         Есть   \n",
       "...            ...         ...         ...             ...          ...   \n",
       "5075          58.8      2016.0   Кирпичный  Железобетонные  Отсутствует   \n",
       "5076          38.0      2006.0  Монолитный  Железобетонные         Есть   \n",
       "5077          49.0      1959.0   Кирпичный  Железобетонные         Есть   \n",
       "5078         160.0      2011.0  Монолитный  Железобетонные         Есть   \n",
       "5079          71.8      2016.0  Монолитный  Железобетонные         Есть   \n",
       "\n",
       "     sportsground electrical_type  \\\n",
       "0     Отсутствует     Центральное   \n",
       "1            Есть     Центральное   \n",
       "2     Отсутствует     Центральное   \n",
       "3            Есть     Центральное   \n",
       "4            Есть     Центральное   \n",
       "...           ...             ...   \n",
       "5075  Отсутствует     Центральное   \n",
       "5076         Есть     Центральное   \n",
       "5077         Есть     Центральное   \n",
       "5078         Есть     Центральное   \n",
       "5079         Есть     Центральное   \n",
       "\n",
       "                                         hot_water_type     gas_type  \\\n",
       "0         Закрытая с приготовлением горячей воды на ЦТП  Отсутствует   \n",
       "1         Закрытая с приготовлением горячей воды на ИТП  Отсутствует   \n",
       "2         Закрытая с приготовлением горячей воды на ЦТП  Отсутствует   \n",
       "3         Закрытая с приготовлением горячей воды на ЦТП  Отсутствует   \n",
       "4     Открытая с отбором сетевой воды на горячее вод...  Отсутствует   \n",
       "...                                                 ...          ...   \n",
       "5075      Закрытая с приготовлением горячей воды на ЦТП  Отсутствует   \n",
       "5076  Открытая с отбором сетевой воды на горячее вод...  Отсутствует   \n",
       "5077      Закрытая с приготовлением горячей воды на ЦТП  Центральное   \n",
       "5078      Закрытая с приготовлением горячей воды на ЦТП  Отсутствует   \n",
       "5079      Закрытая с приготовлением горячей воды на ИТП  Отсутствует   \n",
       "\n",
       "                  ventilation_type         drainage_type  floor_house  \\\n",
       "0              Вытяжная вентиляция  Внутренние водостоки         17.0   \n",
       "1     Приточно-вытяжная вентиляция  Внутренние водостоки         12.0   \n",
       "2     Приточно-вытяжная вентиляция  Внутренние водостоки         17.0   \n",
       "3     Приточно-вытяжная вентиляция  Внутренние водостоки          7.0   \n",
       "4     Приточно-вытяжная вентиляция             Смешанные         19.0   \n",
       "...                            ...                   ...          ...   \n",
       "5075  Приточно-вытяжная вентиляция  Внутренние водостоки         18.0   \n",
       "5076  Приточно-вытяжная вентиляция  Внутренние водостоки         11.0   \n",
       "5077           Вытяжная вентиляция    Наружные водостоки          8.0   \n",
       "5078  Приточно-вытяжная вентиляция  Внутренние водостоки         53.0   \n",
       "5079  Приточно-вытяжная вентиляция  Внутренние водостоки         12.0   \n",
       "\n",
       "      floor_flat  \n",
       "0           12.0  \n",
       "1            8.0  \n",
       "2            4.0  \n",
       "3            6.0  \n",
       "4           14.0  \n",
       "...          ...  \n",
       "5075        11.0  \n",
       "5076         7.0  \n",
       "5077         8.0  \n",
       "5078        47.0  \n",
       "5079         8.0  \n",
       "\n",
       "[5080 rows x 18 columns]"
      ]
     },
     "execution_count": 3,
     "metadata": {},
     "output_type": "execute_result"
    }
   ],
   "source": [
    "data_second_model"
   ]
  },
  {
   "cell_type": "markdown",
   "id": "extra-edinburgh",
   "metadata": {},
   "source": [
    "## Random Forest"
   ]
  },
  {
   "cell_type": "markdown",
   "id": "amazing-classic",
   "metadata": {},
   "source": [
    "### 1) Формирование обучающей и отложенной выборки"
   ]
  },
  {
   "cell_type": "code",
   "execution_count": 4,
   "id": "gentle-adolescent",
   "metadata": {},
   "outputs": [],
   "source": [
    "## Перемешивание исходной выборки\n",
    "data_second_model = data_second_model.sample(frac=1)\n",
    "data_second_model.reset_index(drop=True, inplace=True)"
   ]
  },
  {
   "cell_type": "code",
   "execution_count": 5,
   "id": "alien-exploration",
   "metadata": {},
   "outputs": [],
   "source": [
    "## Формировние выборок\n",
    "# Обучающая выборка\n",
    "data_second_train = data_second_model.loc[0:len(data_second_model)*2/3, :].copy()\n",
    "data_second_train.reset_index(drop=True, inplace=True)\n",
    "# Отложенная выборка\n",
    "data_second_test = data_second_model.loc[len(data_second_model)*2/3:, :].copy()\n",
    "data_second_test.reset_index(drop=True, inplace=True)\n",
    "\n",
    "## Формирование матриц целевой переменной y и независимых переменных X\n",
    "# Обучающая выборка\n",
    "y_train = pd.Series(data_second_train['price'])\n",
    "X_train = data_second_train.iloc[:, 1:]\n",
    "# Отложенная выборка\n",
    "y_test = pd.Series(data_second_test['price'])\n",
    "X_test = data_second_test.iloc[:, 1:]"
   ]
  },
  {
   "cell_type": "code",
   "execution_count": 6,
   "id": "spanish-ethiopia",
   "metadata": {},
   "outputs": [],
   "source": [
    "## Применение горячего кодирования к категориальным переменным в матрицах X (используется горячее кодирвоание, ибо все категориальные переменные являются неупорядоченными)\n",
    "X_train = pd.get_dummies(X_train)\n",
    "X_test = pd.get_dummies(X_test)"
   ]
  },
  {
   "cell_type": "code",
   "execution_count": 7,
   "id": "skilled-dakota",
   "metadata": {},
   "outputs": [
    {
     "data": {
      "text/plain": [
       "Index(['lat', 'lng', 'square_total', 'built_year', 'floor_house', 'floor_flat',\n",
       "       'type_apartment_Вторичка', 'type_apartment_Вторичка Апартаменты',\n",
       "       'type_apartment_Вторичка Пентхаус', 'renovation_Без ремонта',\n",
       "       'renovation_Дизайнерский', 'renovation_Евроремонт',\n",
       "       'renovation_Косметический', 'type_house_Блочный',\n",
       "       'type_house_Кирпичный', 'type_house_Монолитно кирпичный',\n",
       "       'type_house_Монолитный', 'type_house_Панельный',\n",
       "       'floor_type_Деревянные', 'floor_type_Железобетонные', 'playground_Есть',\n",
       "       'playground_Отсутствует', 'sportsground_Есть',\n",
       "       'sportsground_Отсутствует', 'electrical_type_Комбинированное',\n",
       "       'electrical_type_Центральное',\n",
       "       'hot_water_type_Автономная котельная (крышная, встроенно-пристроенная)',\n",
       "       'hot_water_type_Закрытая с приготовлением горячей воды на ИТП',\n",
       "       'hot_water_type_Закрытая с приготовлением горячей воды на ЦТП',\n",
       "       'hot_water_type_Квартирное (квартирный котел)',\n",
       "       'hot_water_type_Открытая с отбором сетевой воды на горячее водоснабжение из тепловой сети',\n",
       "       'gas_type_Автономное', 'gas_type_Отсутствует', 'gas_type_Центральное',\n",
       "       'ventilation_type_Вытяжная вентиляция',\n",
       "       'ventilation_type_Приточная вентиляция',\n",
       "       'ventilation_type_Приточно-вытяжная вентиляция',\n",
       "       'drainage_type_Внутренние водостоки',\n",
       "       'drainage_type_Наружные водостоки', 'drainage_type_Смешанные'],\n",
       "      dtype='object')"
      ]
     },
     "execution_count": 7,
     "metadata": {},
     "output_type": "execute_result"
    }
   ],
   "source": [
    "X_train.columns"
   ]
  },
  {
   "cell_type": "code",
   "execution_count": 8,
   "id": "guided-progress",
   "metadata": {},
   "outputs": [
    {
     "data": {
      "text/plain": [
       "Index(['lat', 'lng', 'square_total', 'built_year', 'floor_house', 'floor_flat',\n",
       "       'type_apartment_Вторичка', 'type_apartment_Вторичка Апартаменты',\n",
       "       'type_apartment_Вторичка Пентхаус', 'renovation_Без ремонта',\n",
       "       'renovation_Дизайнерский', 'renovation_Евроремонт',\n",
       "       'renovation_Косметический', 'type_house_Блочный',\n",
       "       'type_house_Кирпичный', 'type_house_Монолитно кирпичный',\n",
       "       'type_house_Монолитный', 'type_house_Панельный',\n",
       "       'floor_type_Деревянные', 'floor_type_Железобетонные', 'playground_Есть',\n",
       "       'playground_Отсутствует', 'sportsground_Есть',\n",
       "       'sportsground_Отсутствует', 'electrical_type_Комбинированное',\n",
       "       'electrical_type_Центральное',\n",
       "       'hot_water_type_Автономная котельная (крышная, встроенно-пристроенная)',\n",
       "       'hot_water_type_Закрытая с приготовлением горячей воды на ИТП',\n",
       "       'hot_water_type_Закрытая с приготовлением горячей воды на ЦТП',\n",
       "       'hot_water_type_Квартирное (квартирный котел)',\n",
       "       'hot_water_type_Открытая с отбором сетевой воды на горячее водоснабжение из тепловой сети',\n",
       "       'gas_type_Автономное', 'gas_type_Отсутствует', 'gas_type_Центральное',\n",
       "       'ventilation_type_Вытяжная вентиляция',\n",
       "       'ventilation_type_Приточная вентиляция',\n",
       "       'ventilation_type_Приточно-вытяжная вентиляция',\n",
       "       'drainage_type_Внутренние водостоки',\n",
       "       'drainage_type_Наружные водостоки', 'drainage_type_Смешанные'],\n",
       "      dtype='object')"
      ]
     },
     "execution_count": 8,
     "metadata": {},
     "output_type": "execute_result"
    }
   ],
   "source": [
    "X_test.columns"
   ]
  },
  {
   "cell_type": "code",
   "execution_count": 9,
   "id": "separate-norwegian",
   "metadata": {},
   "outputs": [
    {
     "data": {
      "text/plain": [
       "40"
      ]
     },
     "execution_count": 9,
     "metadata": {},
     "output_type": "execute_result"
    }
   ],
   "source": [
    "len(X_train.columns)"
   ]
  },
  {
   "cell_type": "code",
   "execution_count": 10,
   "id": "facial-executive",
   "metadata": {},
   "outputs": [
    {
     "data": {
      "text/plain": [
       "40"
      ]
     },
     "execution_count": 10,
     "metadata": {},
     "output_type": "execute_result"
    }
   ],
   "source": [
    "len(X_test.columns)"
   ]
  },
  {
   "cell_type": "markdown",
   "id": "upset-sound",
   "metadata": {},
   "source": [
    "### Оптимизация Random Forest по гиперпараметрам с помощью GridSearchCV"
   ]
  },
  {
   "cell_type": "markdown",
   "id": "preliminary-bride",
   "metadata": {},
   "source": [
    "Для Random Forest наиболее важными гиперпараметрами являются количество деревьев и число признаков для расщепления. Кроме того, через глубину деревьев можно решить проблему переобучения (тем не менее, для случайного леса она не стоит так остро). Для критерия качества была выбрана средняя абсолютная ошибка в процентах, поскольку для задачи оценки стоимости квартир это наиболее подходящая мера измерения качества (кроме того, она более устойчива к выбросам в отличие от RMSE и R2), поскольку обычно оценщиков интересует относительная погрешность. Кроме того, так как в рамках данной задачи как недооценка, так и переоценка стоимости имеют одинаковую важность, то вполне уместно использовать симметричную метрику."
   ]
  },
  {
   "cell_type": "code",
   "execution_count": 11,
   "id": "polish-imaging",
   "metadata": {},
   "outputs": [
    {
     "data": {
      "text/plain": [
       "GridSearchCV(cv=KFold(n_splits=5, random_state=1, shuffle=True),\n",
       "             estimator=RandomForestRegressor(),\n",
       "             param_grid={'max_depth': [3, 6, 10, 20, 40],\n",
       "                         'max_features': [5, 10, 15, 20, 25, 30, 35],\n",
       "                         'n_estimators': [50, 100, 150]},\n",
       "             scoring='neg_mean_absolute_percentage_error')"
      ]
     },
     "execution_count": 11,
     "metadata": {},
     "output_type": "execute_result"
    }
   ],
   "source": [
    "## Задаем сетку и настройки, по которым будет осуществляться поиск гиперпараметров\n",
    "# Алгоритм\n",
    "model = RandomForestRegressor()\n",
    "# Параметры кросс-валидации\n",
    "cv = KFold(n_splits=5, shuffle=True, random_state=1)\n",
    "# Сетка гиперпараметров\n",
    "parametrs = { 'n_estimators': [50, 100, 150],\n",
    "              'max_features': [5, 10, 15, 20, 25, 30, 35],\n",
    "              'max_depth': [3, 6, 10, 20, 40]}\n",
    "# Подбор гиперпараметров\n",
    "grid = GridSearchCV(model, cv = cv, param_grid = parametrs, scoring = 'neg_mean_absolute_percentage_error')\n",
    "grid.fit(X_train, y_train)"
   ]
  },
  {
   "cell_type": "code",
   "execution_count": 12,
   "id": "durable-gates",
   "metadata": {},
   "outputs": [
    {
     "data": {
      "text/plain": [
       "{'max_depth': 40, 'max_features': 35, 'n_estimators': 150}"
      ]
     },
     "execution_count": 12,
     "metadata": {},
     "output_type": "execute_result"
    }
   ],
   "source": [
    "# Значения гиперпараметров, обеспечивающих наилучшее качество на обучающей выборке с кросс-валидацией\n",
    "grid.best_params_"
   ]
  },
  {
   "cell_type": "markdown",
   "id": "mighty-flashing",
   "metadata": {},
   "source": [
    "Стоит отметить, что при прочих равных условиях качество Random Forest будет расти при увеличении количества деревьев:"
   ]
  },
  {
   "cell_type": "code",
   "execution_count": 13,
   "id": "cutting-trustee",
   "metadata": {},
   "outputs": [
    {
     "data": {
      "text/plain": [
       "[Text(0.5, 0, 'n_estimators'), Text(0, 0.5, 'MAPE')]"
      ]
     },
     "execution_count": 13,
     "metadata": {},
     "output_type": "execute_result"
    },
    {
     "data": {
      "image/png": "[encoded data removed]",
      "text/plain": [
       "<Figure size 432x288 with 1 Axes>"
      ]
     },
     "metadata": {
      "needs_background": "light"
     },
     "output_type": "display_data"
    }
   ],
   "source": [
    "# Формируем список, состоящий из значений MAPE для различного количества деревьев в Random Forest\n",
    "cv = KFold(n_splits=5, shuffle=True, random_state=1)\n",
    "list_MAPE_n_estimators = []\n",
    "for i in [5, 10, 30, 40, 70, 100, 150, 200, 300]:\n",
    "    model = RandomForestRegressor(n_estimators = i)\n",
    "    model.fit(X_train, y_train)\n",
    "    score_i = cross_val_score(model, X_train, y_train, cv=cv, scoring=\"neg_mean_absolute_percentage_error\").mean()\n",
    "    list_MAPE_n_estimators.append(score_i)\n",
    "# DataFrame с оценками и количеством деревьев\n",
    "RF_score = pd.DataFrame()\n",
    "RF_score['MAPE'] = list_MAPE_n_estimators\n",
    "RF_score['n_estimators'] = [5, 10, 30, 40, 70, 100, 150, 200, 300]\n",
    "# Строим график\n",
    "ax = seaborn.lineplot(data=RF_score, x='n_estimators', y='MAPE')\n",
    "ax.set(xlabel='n_estimators', ylabel='MAPE')"
   ]
  },
  {
   "cell_type": "markdown",
   "id": "streaming-conditions",
   "metadata": {},
   "source": [
    "Тем не менее видно, что в даном случае наилучшее качество достигается, когда количество деревьев принимает значение около 150 (если остальные гиперпараметры установлены по умолчанию). Вполне возможно, что это обусловлено используемой метрикой качества (В данном случае MAPE является отрицательной из-за особенностей расчета библиотеки при осуществлении кросс-валидации. На самом деле данные значения нужно умножить еще на -1)."
   ]
  },
  {
   "cell_type": "markdown",
   "id": "orange-consolidation",
   "metadata": {},
   "source": [
    "Более тонкая настройка гиперпараметров показала, что наилучшее качество, измеренное на тестовой выборке, Random Forest достигает при следующим значениях гиперпараметров:\n",
    "n_estimators = 181,\n",
    "max_features = 27,\n",
    "max_depth - не ограничивать."
   ]
  },
  {
   "cell_type": "markdown",
   "id": "compatible-switzerland",
   "metadata": {},
   "source": [
    "### Оценка обобщающей способности оптимизированного Random Forest "
   ]
  },
  {
   "cell_type": "code",
   "execution_count": 18,
   "id": "packed-arlington",
   "metadata": {},
   "outputs": [],
   "source": [
    "model = RandomForestRegressor(n_estimators = 181, max_features = 27)\n",
    "model.fit(X_train, y_train)\n",
    "y_predict = model.predict(X_test)\n",
    "MAPE = mean_absolute_percentage_error(y_true = y_test, y_pred = y_predict)"
   ]
  },
  {
   "cell_type": "code",
   "execution_count": 19,
   "id": "controlling-correction",
   "metadata": {},
   "outputs": [
    {
     "data": {
      "text/plain": [
       "0.15199131235599914"
      ]
     },
     "execution_count": 19,
     "metadata": {},
     "output_type": "execute_result"
    }
   ],
   "source": [
    "MAPE"
   ]
  },
  {
   "cell_type": "markdown",
   "id": "ceramic-divide",
   "metadata": {},
   "source": [
    "Тем не менее, интересно посмотреть, какое значение различных метрик качества обученного алгоритма достигается для того или иного ценового сегмента отложенной выборки."
   ]
  },
  {
   "cell_type": "code",
   "execution_count": 46,
   "id": "common-genetics",
   "metadata": {},
   "outputs": [
    {
     "name": "stdout",
     "output_type": "stream",
     "text": [
      "0\n",
      "1\n",
      "2\n",
      "3\n",
      "4\n"
     ]
    }
   ],
   "source": [
    "# Сортировка тестовой выборки по цене\n",
    "data_second_test = data_second_test.sort_values(by='price')\n",
    "data_second_test.reset_index(drop=True, inplace=True)\n",
    "y_test = pd.DataFrame(data_second_test['price'], columns = ['price'])\n",
    "X_test = data_second_test.iloc[:, 1:]\n",
    "X_test = pd.get_dummies(X_test)\n",
    "# Формируем таблицу оценок\n",
    "RF_score_segment = pd.DataFrame(columns = ['segment', 'RMSE', 'MAE', 'MAPE'])\n",
    "# Оценка обобщающей способности\n",
    "for i in range(0, 5):\n",
    "    print(i)\n",
    "    if i < 4:\n",
    "        y_test_i = y_test.loc[339*i:339*(i+1), :].copy()\n",
    "        X_test_i = X_test.loc[339*i:339*(i+1), :].copy()\n",
    "        y_predict_i = model.predict(X_test_i)\n",
    "        RMSE_i = mean_squared_error(y_true = y_test_i, y_pred = y_predict_i, squared = False)\n",
    "        MAE_i = mean_absolute_error(y_true = y_test_i, y_pred = y_predict_i)\n",
    "        MAPE_i = mean_absolute_percentage_error(y_true = y_test_i, y_pred = y_predict_i)\n",
    "        min_price_i = min(y_test_i.loc[:, 'price'])\n",
    "        max_price_i = max(y_test_i.loc[:, 'price'])\n",
    "        RF_score_segment.loc[i, ['segment', 'RMSE', 'MAE', 'MAPE']] = [str(min_price_i) + ' - ' + str(max_price_i),\n",
    "                                                                      RMSE_i, MAE_i, MAPE_i]\n",
    "    else:\n",
    "        y_test_i = y_test.loc[339*4:, :].copy()\n",
    "        X_test_i = X_test.loc[339*4:, :].copy()\n",
    "        y_predict_i = model.predict(X_test_i)\n",
    "        RMSE_i = mean_squared_error(y_true = y_test_i, y_pred = y_predict_i, squared = False)\n",
    "        MAE_i = mean_absolute_error(y_true = y_test_i, y_pred = y_predict_i)\n",
    "        MAPE_i = mean_absolute_percentage_error(y_true = y_test_i, y_pred = y_predict_i)\n",
    "        min_price_i = min(y_test_i.loc[:, 'price'])\n",
    "        max_price_i = max(y_test_i.loc[:, 'price'])\n",
    "        RF_score_segment.loc[i, ['segment', 'RMSE', 'MAE', 'MAPE']] = [str(min_price_i) + ' - ' + str(max_price_i),\n",
    "                                                                      RMSE_i, MAE_i, MAPE_i]\n"
   ]
  },
  {
   "cell_type": "code",
   "execution_count": 47,
   "id": "grave-pharmacology",
   "metadata": {},
   "outputs": [
    {
     "data": {
      "text/html": [
       "<div>\n",
       "<style scoped>\n",
       "    .dataframe tbody tr th:only-of-type {\n",
       "        vertical-align: middle;\n",
       "    }\n",
       "\n",
       "    .dataframe tbody tr th {\n",
       "        vertical-align: top;\n",
       "    }\n",
       "\n",
       "    .dataframe thead th {\n",
       "        text-align: right;\n",
       "    }\n",
       "</style>\n",
       "<table border=\"1\" class=\"dataframe\">\n",
       "  <thead>\n",
       "    <tr style=\"text-align: right;\">\n",
       "      <th></th>\n",
       "      <th>segment</th>\n",
       "      <th>RMSE</th>\n",
       "      <th>MAE</th>\n",
       "      <th>MAPE</th>\n",
       "    </tr>\n",
       "  </thead>\n",
       "  <tbody>\n",
       "    <tr>\n",
       "      <th>0</th>\n",
       "      <td>4350000 - 10500000</td>\n",
       "      <td>1268996.870204</td>\n",
       "      <td>891730.007724</td>\n",
       "      <td>0.104747</td>\n",
       "    </tr>\n",
       "    <tr>\n",
       "      <th>1</th>\n",
       "      <td>10500000 - 13800000</td>\n",
       "      <td>2083037.785602</td>\n",
       "      <td>1301276.311133</td>\n",
       "      <td>0.10758</td>\n",
       "    </tr>\n",
       "    <tr>\n",
       "      <th>2</th>\n",
       "      <td>13800000 - 19500000</td>\n",
       "      <td>3244873.816026</td>\n",
       "      <td>1772731.866932</td>\n",
       "      <td>0.106634</td>\n",
       "    </tr>\n",
       "    <tr>\n",
       "      <th>3</th>\n",
       "      <td>19500000 - 35000000</td>\n",
       "      <td>9081629.458626</td>\n",
       "      <td>5324449.709491</td>\n",
       "      <td>0.204694</td>\n",
       "    </tr>\n",
       "    <tr>\n",
       "      <th>4</th>\n",
       "      <td>35000000 - 960358341</td>\n",
       "      <td>39943971.922174</td>\n",
       "      <td>23536438.493095</td>\n",
       "      <td>0.236378</td>\n",
       "    </tr>\n",
       "  </tbody>\n",
       "</table>\n",
       "</div>"
      ],
      "text/plain": [
       "                segment             RMSE              MAE      MAPE\n",
       "0    4350000 - 10500000   1268996.870204    891730.007724  0.104747\n",
       "1   10500000 - 13800000   2083037.785602   1301276.311133   0.10758\n",
       "2   13800000 - 19500000   3244873.816026   1772731.866932  0.106634\n",
       "3   19500000 - 35000000   9081629.458626   5324449.709491  0.204694\n",
       "4  35000000 - 960358341  39943971.922174  23536438.493095  0.236378"
      ]
     },
     "execution_count": 47,
     "metadata": {},
     "output_type": "execute_result"
    }
   ],
   "source": [
    "RF_score_segment"
   ]
  },
  {
   "cell_type": "markdown",
   "id": "funded-citizen",
   "metadata": {},
   "source": [
    "Видно, что для первых трех ценовых сегментов средняя абсолютная ошибка в процентах принимает значение около 10,5%. Вместе с тем, по мере перехода к более высоким сегментам ошибка начинает расти. Вполне возможно, что это обусловлено большим разбросом цен внутри сегмента, пространственной неоднородностью, а также совершенно другими механизмами ценообразования, в основе которого лежат факторы, отсутствующие в данном наборе данных."
   ]
  },
  {
   "cell_type": "code",
   "execution_count": 48,
   "id": "correct-insertion",
   "metadata": {},
   "outputs": [],
   "source": [
    "list_error = []\n",
    "y_test_predict = model.predict(X_test)\n",
    "for i in range(0, len(X_test)):\n",
    "    error_i = abs(y_test.loc[i, 'price'] - y_test_predict[i]) / y_test.loc[i, 'price']\n",
    "    list_error.append(error_i)"
   ]
  },
  {
   "cell_type": "code",
   "execution_count": 51,
   "id": "advanced-texture",
   "metadata": {},
   "outputs": [
    {
     "data": {
      "text/plain": [
       "[Text(0, 0.5, 'Частота'),\n",
       " Text(0.5, 0, 'Абсолютная ошибка, %'),\n",
       " Text(0.5, 1.0, '')]"
      ]
     },
     "execution_count": 51,
     "metadata": {},
     "output_type": "execute_result"
    },
    {
     "data": {
      "image/png": "[encoded data removed]",
      "text/plain": [
       "<Figure size 288x360 with 1 Axes>"
      ]
     },
     "metadata": {},
     "output_type": "display_data"
    }
   ],
   "source": [
    "seaborn.set(font_scale = 1)\n",
    "seaborn.mpl.rc('figure', figsize = (4,5))\n",
    "seaborn.histplot(list_error).set(ylabel='Частота', xlabel='Абсолютная ошибка, %', title = '')"
   ]
  },
  {
   "cell_type": "markdown",
   "id": "antique-running",
   "metadata": {},
   "source": [
    "Распределение абсолютных ошибок в процентах показывает, что имеются и довольно большие расхождения (более 200%). Скорее всего это из-за неудаленных \"мусорных\" наблюдений или из-за уникальных объектов недвижимости. Тем не менее, по подавляющему большинству квартир абсолютное отклонение составляет не более 15%."
   ]
  },
  {
   "cell_type": "markdown",
   "id": "artistic-mexico",
   "metadata": {},
   "source": [
    "### Интерпретация результатов Random Forest с помощью вектора Шепли"
   ]
  },
  {
   "cell_type": "code",
   "execution_count": 56,
   "id": "owned-renewal",
   "metadata": {},
   "outputs": [],
   "source": [
    "# Вычисление вектора Шепли\n",
    "shap_values = shap.TreeExplainer(model).shap_values(X_train)"
   ]
  },
  {
   "cell_type": "code",
   "execution_count": 57,
   "id": "essential-immunology",
   "metadata": {},
   "outputs": [
    {
     "data": {
      "image/png": "[encoded data removed]",
      "text/plain": [
       "<Figure size 576x684 with 2 Axes>"
      ]
     },
     "metadata": {},
     "output_type": "display_data"
    }
   ],
   "source": [
    "# Сводный график\n",
    "shap.summary_plot(shap_values, X_train)"
   ]
  },
  {
   "cell_type": "markdown",
   "id": "annual-efficiency",
   "metadata": {},
   "source": [
    "На графике представлены наиболее значимые факторы, влияюшие на цену квартиры (чем выше расположено наименование фактора или его значения, тем более значимым он является). Так, общая площадь является самым значимым.\n",
    "\n",
    "Среди числовых переменных положительное влияние оказывают такие факторы, как общая площадь, год постройки, этаж квартиры. Дизайнерский ремонт и евроремонт также оказывают положительное влияние. Кирпичная технология строительства дома, в котором расположена квартира, тоже увеличивает стоимость квартиры, как и то, что квартира является пентахусом.\n",
    "\n",
    "Отрицательное влияние на цену оказывает панельная технология строительства дома, в котором располагается квартира и отсутствие ремонта.\n",
    "\n",
    "Вместе с тем, судить о характере зависимости по данному графику невозможно. Кроме того, для ряда факторов не удалось выявить даже направление влияния на цену (например, по географическим координатам). Это указывает на довольно сложные существующие взаимосвязи в данных (в случае географических координат, на сложную пространственную неоднородность рынка жилья Москвы)."
   ]
  }
 ],
 "metadata": {
  "kernelspec": {
   "display_name": "Python 3",
   "language": "python",
   "name": "python3"
  },
  "language_info": {
   "codemirror_mode": {
    "name": "ipython",
    "version": 3
   },
   "file_extension": ".py",
   "mimetype": "text/x-python",
   "name": "python",
   "nbconvert_exporter": "python",
   "pygments_lexer": "ipython3",
   "version": "3.8.3"
  }
 },
 "nbformat": 4,
 "nbformat_minor": 5
}
